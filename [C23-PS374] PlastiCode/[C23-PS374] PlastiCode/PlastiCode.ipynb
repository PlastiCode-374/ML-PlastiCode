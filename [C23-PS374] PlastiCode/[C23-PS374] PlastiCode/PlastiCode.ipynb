{
  "cells": [
    {
      "cell_type": "markdown",
      "metadata": {
        "id": "qxiWyfH3yubX"
      },
      "source": [
        "**Clone Colab to Github**"
      ]
    },
    {
      "cell_type": "code",
      "execution_count": null,
      "metadata": {
        "id": "_32YK-K3y3pe",
        "colab": {
          "base_uri": "https://localhost:8080/"
        },
        "outputId": "ad6d9ef9-8215-4db1-ae52-cde234b4f7cc"
      },
      "outputs": [
        {
          "output_type": "stream",
          "name": "stdout",
          "text": [
            "Cloning into 'ML-PlastiCode'...\n",
            "remote: Enumerating objects: 3, done.\u001b[K\n",
            "remote: Counting objects: 100% (3/3), done.\u001b[K\n",
            "remote: Total 3 (delta 0), reused 0 (delta 0), pack-reused 0\u001b[K\n",
            "Unpacking objects: 100% (3/3), 600 bytes | 600.00 KiB/s, done.\n"
          ]
        }
      ],
      "source": [
        "!git clone https://github.com/PlastiCode-374/ML-PlastiCode.git"
      ]
    },
    {
      "cell_type": "markdown",
      "metadata": {
        "id": "w5zycB_7xajr"
      },
      "source": [
        "**Menyambungkan antara google colab dengan google drive**"
      ]
    },
    {
      "cell_type": "code",
      "execution_count": null,
      "metadata": {
        "colab": {
          "base_uri": "https://localhost:8080/"
        },
        "id": "CNXgstvDyd5O",
        "outputId": "72704ede-2623-498c-aa13-929c8d646e77"
      },
      "outputs": [
        {
          "output_type": "stream",
          "name": "stdout",
          "text": [
            "Mounted at /content/drives/\n"
          ]
        }
      ],
      "source": [
        "from google.colab import drive\n",
        "drive.mount('/content/drives/')"
      ]
    },
    {
      "cell_type": "markdown",
      "metadata": {
        "id": "Z9Avx-bgznmg"
      },
      "source": [
        "**Input Library**"
      ]
    },
    {
      "cell_type": "code",
      "execution_count": null,
      "metadata": {
        "colab": {
          "base_uri": "https://localhost:8080/"
        },
        "id": "wW7LryMAzsQl",
        "outputId": "0e51258e-c5fc-4a7d-ba09-6fef836e6fcb"
      },
      "outputs": [
        {
          "output_type": "stream",
          "name": "stdout",
          "text": [
            "Colab only includes TensorFlow 2.x; %tensorflow_version has no effect.\n"
          ]
        }
      ],
      "source": [
        "from __future__ import absolute_import, division, print_function, unicode_literals\n",
        "\n",
        "try:\n",
        "  # The %tensorflow_version magic only works in colab.\n",
        "  %tensorflow_version 2.x\n",
        "except Exception:\n",
        "  pass\n",
        "import numpy as np \n",
        "import math, os, sys\n",
        "import itertools\n",
        "\n",
        "import matplotlib.pyplot as plt\n",
        "plt.style.use('default')\n",
        "from scipy import ndimage\n",
        "\n",
        "from skimage import measure, morphology\n",
        "from skimage.io import imsave, imread\n",
        "from skimage.filters import threshold_otsu\n",
        "from skimage.transform import resize\n",
        "\n",
        "import tensorflow as tf\n",
        "from sklearn import svm, datasets\n",
        "from sklearn.metrics import confusion_matrix\n",
        "import pandas as pd"
      ]
    },
    {
      "cell_type": "code",
      "source": [
        "!ls \"/content/drives/MyDrive/Capstone/data jenis plastik\"\n",
        "!ls \"/content/drives/MyDrive/Capstone/data jenis plastik/train\""
      ],
      "metadata": {
        "colab": {
          "base_uri": "https://localhost:8080/"
        },
        "id": "pif2KOKUK0YK",
        "outputId": "ed76ad3d-1e92-4564-f0cf-8ec7be7f28ae"
      },
      "execution_count": null,
      "outputs": [
        {
          "output_type": "stream",
          "name": "stdout",
          "text": [
            "PlastiCode  train  validation\n",
            "hdpe  ldpe  other  pet\tpp  ps\tpvc\n"
          ]
        }
      ]
    },
    {
      "cell_type": "code",
      "source": [
        "#Perintah untuk memvisualisasikan satu gambar dari data train\n",
        "#image = imread(\"/content/drives/MyDrive/Capstone/data jenis plastik/train/hdpe/124153_10-12-2019_16-17-51.jpeg\")\n",
        "#plt.figure(figsize=(3,3))\n",
        "#plt.imshow(image)"
      ],
      "metadata": {
        "id": "zE1RH5vhLXwX"
      },
      "execution_count": null,
      "outputs": []
    },
    {
      "cell_type": "markdown",
      "metadata": {
        "id": "3PmGn1bBDgMO"
      },
      "source": [
        "**Memuat Dataset Training dan Validation**"
      ]
    },
    {
      "cell_type": "code",
      "execution_count": null,
      "metadata": {
        "colab": {
          "base_uri": "https://localhost:8080/"
        },
        "id": "etgOe6auGsFr",
        "outputId": "14b4cab0-9c87-4845-8950-1a43e393ef59"
      },
      "outputs": [
        {
          "output_type": "stream",
          "name": "stdout",
          "text": [
            "Found 1581 images belonging to 7 classes.\n",
            "Found 451 images belonging to 7 classes.\n"
          ]
        }
      ],
      "source": [
        "from keras.preprocessing.image import ImageDataGenerator\n",
        "\n",
        "TRAINING_DIR = \"/content/drives/MyDrive/Capstone/data jenis plastik/train\"\n",
        "training_datagen = ImageDataGenerator(\n",
        "      rescale = 1./255,\n",
        "\t    rotation_range=40,\n",
        "      width_shift_range=0.2,\n",
        "      height_shift_range=0.2,\n",
        "      shear_range=0.2,\n",
        "      zoom_range=0.2,\n",
        "      horizontal_flip=True,\n",
        "      fill_mode='nearest')\n",
        "\n",
        "VALIDATION_DIR = \"/content/drives/MyDrive/Capstone/data jenis plastik/validation\"\n",
        "validation_datagen = ImageDataGenerator(rescale = 1./255)\n",
        "\n",
        "train_generator = training_datagen.flow_from_directory(\n",
        "\tTRAINING_DIR,\n",
        "\ttarget_size=(150,150),\n",
        "\tclass_mode='categorical',\n",
        "  batch_size=128\n",
        ")\n",
        "\n",
        "validation_generator = validation_datagen.flow_from_directory(\n",
        "\tVALIDATION_DIR,\n",
        "\ttarget_size=(150,150),\n",
        "\tclass_mode='categorical',\n",
        "  batch_size=128\n",
        ")"
      ]
    },
    {
      "cell_type": "markdown",
      "metadata": {
        "id": "NdeoTBvVKPdS"
      },
      "source": [
        "**Menyimpan Label**"
      ]
    },
    {
      "cell_type": "code",
      "execution_count": null,
      "metadata": {
        "id": "rwmnScadKSjq",
        "colab": {
          "base_uri": "https://localhost:8080/"
        },
        "outputId": "219ca056-1dec-4c79-e81f-988de3c81825"
      },
      "outputs": [
        {
          "output_type": "stream",
          "name": "stdout",
          "text": [
            "{'hdpe': 0, 'ldpe': 1, 'other': 2, 'pet': 3, 'pp': 4, 'ps': 5, 'pvc': 6}\n"
          ]
        }
      ],
      "source": [
        "print (train_generator.class_indices)\n",
        "\n",
        "labels_txt = '\\n'.join(sorted(train_generator.class_indices.keys()))\n",
        "\n",
        "with open('labels.txt', 'w') as f:\n",
        "  f.write(labels_txt)"
      ]
    },
    {
      "cell_type": "code",
      "source": [
        "# Format images for the task\n",
        "# Resize the images to a fixed input size and rescale the input channels to a range[-1,1]\n",
        "IMG_SIZE = 160  # All images will be resized to 160x160\n",
        "\n",
        "def format_example(image, label):\n",
        "    image = tf.cast(image, tf.float32)\n",
        "    image = (image/127.5) - 1\n",
        "    image = tf.image.resize(image, (IMG_SIZE, IMG_SIZE))\n",
        "    return image, label"
      ],
      "metadata": {
        "id": "6olAA13LRtRg"
      },
      "execution_count": null,
      "outputs": []
    },
    {
      "cell_type": "markdown",
      "metadata": {
        "id": "E5ueCT7OLnAS"
      },
      "source": [
        "**Membuat Model dari Jaringan CNN yang sudah dipelajari sebelumnya**"
      ]
    },
    {
      "cell_type": "markdown",
      "source": [
        "***Feature Extraction***\n",
        "Menggunakan model pre-trained untuk ekstraksi fitur (feature extraction) : Ketika bekerja dengan dataset kecil, adalah umum untuk mengambil keuntungan dari fitur yang dipelajari oleh model yang dilatih pada dataset yang lebih besar dalam domain yang sama. Ini dilakukan dengan membuat contoh model pre-trained dan menambahkan classifier yang sepenuhnya terhubung di atas. Model pre-trained adalah \"beku\" dan hanya bobot pengklasifikasi yang diperbarui selama pelatihan. Dalam hal ini, basis konvolusional mengekstraksi semua fitur yang terkait dengan setiap gambar dan Anda baru saja melatih classifier yang menentukan kelas gambar mengingat set fitur yang diekstraksi."
      ],
      "metadata": {
        "id": "llqP0gnEXC7d"
      }
    },
    {
      "cell_type": "code",
      "execution_count": null,
      "metadata": {
        "id": "DMCFJSIeLs2E",
        "colab": {
          "base_uri": "https://localhost:8080/"
        },
        "outputId": "a64f6d56-fbbc-40c6-c9d2-90b194ca34b6"
      },
      "outputs": [
        {
          "output_type": "stream",
          "name": "stdout",
          "text": [
            "Downloading data from https://storage.googleapis.com/tensorflow/keras-applications/mobilenet_v2/mobilenet_v2_weights_tf_dim_ordering_tf_kernels_1.0_224_no_top.h5\n",
            "9406464/9406464 [==============================] - 1s 0us/step\n"
          ]
        }
      ],
      "source": [
        "IMG_SHAPE = (224, 224, 3)\n",
        "# Membuat model dasar (base model) dari pre-trained model MobileNet\n",
        "base_model = tf.keras.applications.MobileNetV2(input_shape=IMG_SHAPE,\n",
        "                                              include_top=False, \n",
        "                                              weights='imagenet')"
      ]
    },
    {
      "cell_type": "code",
      "source": [
        "base_model.trainable = False\n",
        "base_model.summary()"
      ],
      "metadata": {
        "colab": {
          "base_uri": "https://localhost:8080/"
        },
        "id": "kR018QCWWjcB",
        "outputId": "43543578-60a6-4bb3-df3d-0ac6e0ee10c5"
      },
      "execution_count": null,
      "outputs": [
        {
          "output_type": "stream",
          "name": "stdout",
          "text": [
            "Model: \"mobilenetv2_1.00_224\"\n",
            "__________________________________________________________________________________________________\n",
            " Layer (type)                   Output Shape         Param #     Connected to                     \n",
            "==================================================================================================\n",
            " input_1 (InputLayer)           [(None, 224, 224, 3  0           []                               \n",
            "                                )]                                                                \n",
            "                                                                                                  \n",
            " Conv1 (Conv2D)                 (None, 112, 112, 32  864         ['input_1[0][0]']                \n",
            "                                )                                                                 \n",
            "                                                                                                  \n",
            " bn_Conv1 (BatchNormalization)  (None, 112, 112, 32  128         ['Conv1[0][0]']                  \n",
            "                                )                                                                 \n",
            "                                                                                                  \n",
            " Conv1_relu (ReLU)              (None, 112, 112, 32  0           ['bn_Conv1[0][0]']               \n",
            "                                )                                                                 \n",
            "                                                                                                  \n",
            " expanded_conv_depthwise (Depth  (None, 112, 112, 32  288        ['Conv1_relu[0][0]']             \n",
            " wiseConv2D)                    )                                                                 \n",
            "                                                                                                  \n",
            " expanded_conv_depthwise_BN (Ba  (None, 112, 112, 32  128        ['expanded_conv_depthwise[0][0]']\n",
            " tchNormalization)              )                                                                 \n",
            "                                                                                                  \n",
            " expanded_conv_depthwise_relu (  (None, 112, 112, 32  0          ['expanded_conv_depthwise_BN[0][0\n",
            " ReLU)                          )                                ]']                              \n",
            "                                                                                                  \n",
            " expanded_conv_project (Conv2D)  (None, 112, 112, 16  512        ['expanded_conv_depthwise_relu[0]\n",
            "                                )                                [0]']                            \n",
            "                                                                                                  \n",
            " expanded_conv_project_BN (Batc  (None, 112, 112, 16  64         ['expanded_conv_project[0][0]']  \n",
            " hNormalization)                )                                                                 \n",
            "                                                                                                  \n",
            " block_1_expand (Conv2D)        (None, 112, 112, 96  1536        ['expanded_conv_project_BN[0][0]'\n",
            "                                )                                ]                                \n",
            "                                                                                                  \n",
            " block_1_expand_BN (BatchNormal  (None, 112, 112, 96  384        ['block_1_expand[0][0]']         \n",
            " ization)                       )                                                                 \n",
            "                                                                                                  \n",
            " block_1_expand_relu (ReLU)     (None, 112, 112, 96  0           ['block_1_expand_BN[0][0]']      \n",
            "                                )                                                                 \n",
            "                                                                                                  \n",
            " block_1_pad (ZeroPadding2D)    (None, 113, 113, 96  0           ['block_1_expand_relu[0][0]']    \n",
            "                                )                                                                 \n",
            "                                                                                                  \n",
            " block_1_depthwise (DepthwiseCo  (None, 56, 56, 96)  864         ['block_1_pad[0][0]']            \n",
            " nv2D)                                                                                            \n",
            "                                                                                                  \n",
            " block_1_depthwise_BN (BatchNor  (None, 56, 56, 96)  384         ['block_1_depthwise[0][0]']      \n",
            " malization)                                                                                      \n",
            "                                                                                                  \n",
            " block_1_depthwise_relu (ReLU)  (None, 56, 56, 96)   0           ['block_1_depthwise_BN[0][0]']   \n",
            "                                                                                                  \n",
            " block_1_project (Conv2D)       (None, 56, 56, 24)   2304        ['block_1_depthwise_relu[0][0]'] \n",
            "                                                                                                  \n",
            " block_1_project_BN (BatchNorma  (None, 56, 56, 24)  96          ['block_1_project[0][0]']        \n",
            " lization)                                                                                        \n",
            "                                                                                                  \n",
            " block_2_expand (Conv2D)        (None, 56, 56, 144)  3456        ['block_1_project_BN[0][0]']     \n",
            "                                                                                                  \n",
            " block_2_expand_BN (BatchNormal  (None, 56, 56, 144)  576        ['block_2_expand[0][0]']         \n",
            " ization)                                                                                         \n",
            "                                                                                                  \n",
            " block_2_expand_relu (ReLU)     (None, 56, 56, 144)  0           ['block_2_expand_BN[0][0]']      \n",
            "                                                                                                  \n",
            " block_2_depthwise (DepthwiseCo  (None, 56, 56, 144)  1296       ['block_2_expand_relu[0][0]']    \n",
            " nv2D)                                                                                            \n",
            "                                                                                                  \n",
            " block_2_depthwise_BN (BatchNor  (None, 56, 56, 144)  576        ['block_2_depthwise[0][0]']      \n",
            " malization)                                                                                      \n",
            "                                                                                                  \n",
            " block_2_depthwise_relu (ReLU)  (None, 56, 56, 144)  0           ['block_2_depthwise_BN[0][0]']   \n",
            "                                                                                                  \n",
            " block_2_project (Conv2D)       (None, 56, 56, 24)   3456        ['block_2_depthwise_relu[0][0]'] \n",
            "                                                                                                  \n",
            " block_2_project_BN (BatchNorma  (None, 56, 56, 24)  96          ['block_2_project[0][0]']        \n",
            " lization)                                                                                        \n",
            "                                                                                                  \n",
            " block_2_add (Add)              (None, 56, 56, 24)   0           ['block_1_project_BN[0][0]',     \n",
            "                                                                  'block_2_project_BN[0][0]']     \n",
            "                                                                                                  \n",
            " block_3_expand (Conv2D)        (None, 56, 56, 144)  3456        ['block_2_add[0][0]']            \n",
            "                                                                                                  \n",
            " block_3_expand_BN (BatchNormal  (None, 56, 56, 144)  576        ['block_3_expand[0][0]']         \n",
            " ization)                                                                                         \n",
            "                                                                                                  \n",
            " block_3_expand_relu (ReLU)     (None, 56, 56, 144)  0           ['block_3_expand_BN[0][0]']      \n",
            "                                                                                                  \n",
            " block_3_pad (ZeroPadding2D)    (None, 57, 57, 144)  0           ['block_3_expand_relu[0][0]']    \n",
            "                                                                                                  \n",
            " block_3_depthwise (DepthwiseCo  (None, 28, 28, 144)  1296       ['block_3_pad[0][0]']            \n",
            " nv2D)                                                                                            \n",
            "                                                                                                  \n",
            " block_3_depthwise_BN (BatchNor  (None, 28, 28, 144)  576        ['block_3_depthwise[0][0]']      \n",
            " malization)                                                                                      \n",
            "                                                                                                  \n",
            " block_3_depthwise_relu (ReLU)  (None, 28, 28, 144)  0           ['block_3_depthwise_BN[0][0]']   \n",
            "                                                                                                  \n",
            " block_3_project (Conv2D)       (None, 28, 28, 32)   4608        ['block_3_depthwise_relu[0][0]'] \n",
            "                                                                                                  \n",
            " block_3_project_BN (BatchNorma  (None, 28, 28, 32)  128         ['block_3_project[0][0]']        \n",
            " lization)                                                                                        \n",
            "                                                                                                  \n",
            " block_4_expand (Conv2D)        (None, 28, 28, 192)  6144        ['block_3_project_BN[0][0]']     \n",
            "                                                                                                  \n",
            " block_4_expand_BN (BatchNormal  (None, 28, 28, 192)  768        ['block_4_expand[0][0]']         \n",
            " ization)                                                                                         \n",
            "                                                                                                  \n",
            " block_4_expand_relu (ReLU)     (None, 28, 28, 192)  0           ['block_4_expand_BN[0][0]']      \n",
            "                                                                                                  \n",
            " block_4_depthwise (DepthwiseCo  (None, 28, 28, 192)  1728       ['block_4_expand_relu[0][0]']    \n",
            " nv2D)                                                                                            \n",
            "                                                                                                  \n",
            " block_4_depthwise_BN (BatchNor  (None, 28, 28, 192)  768        ['block_4_depthwise[0][0]']      \n",
            " malization)                                                                                      \n",
            "                                                                                                  \n",
            " block_4_depthwise_relu (ReLU)  (None, 28, 28, 192)  0           ['block_4_depthwise_BN[0][0]']   \n",
            "                                                                                                  \n",
            " block_4_project (Conv2D)       (None, 28, 28, 32)   6144        ['block_4_depthwise_relu[0][0]'] \n",
            "                                                                                                  \n",
            " block_4_project_BN (BatchNorma  (None, 28, 28, 32)  128         ['block_4_project[0][0]']        \n",
            " lization)                                                                                        \n",
            "                                                                                                  \n",
            " block_4_add (Add)              (None, 28, 28, 32)   0           ['block_3_project_BN[0][0]',     \n",
            "                                                                  'block_4_project_BN[0][0]']     \n",
            "                                                                                                  \n",
            " block_5_expand (Conv2D)        (None, 28, 28, 192)  6144        ['block_4_add[0][0]']            \n",
            "                                                                                                  \n",
            " block_5_expand_BN (BatchNormal  (None, 28, 28, 192)  768        ['block_5_expand[0][0]']         \n",
            " ization)                                                                                         \n",
            "                                                                                                  \n",
            " block_5_expand_relu (ReLU)     (None, 28, 28, 192)  0           ['block_5_expand_BN[0][0]']      \n",
            "                                                                                                  \n",
            " block_5_depthwise (DepthwiseCo  (None, 28, 28, 192)  1728       ['block_5_expand_relu[0][0]']    \n",
            " nv2D)                                                                                            \n",
            "                                                                                                  \n",
            " block_5_depthwise_BN (BatchNor  (None, 28, 28, 192)  768        ['block_5_depthwise[0][0]']      \n",
            " malization)                                                                                      \n",
            "                                                                                                  \n",
            " block_5_depthwise_relu (ReLU)  (None, 28, 28, 192)  0           ['block_5_depthwise_BN[0][0]']   \n",
            "                                                                                                  \n",
            " block_5_project (Conv2D)       (None, 28, 28, 32)   6144        ['block_5_depthwise_relu[0][0]'] \n",
            "                                                                                                  \n",
            " block_5_project_BN (BatchNorma  (None, 28, 28, 32)  128         ['block_5_project[0][0]']        \n",
            " lization)                                                                                        \n",
            "                                                                                                  \n",
            " block_5_add (Add)              (None, 28, 28, 32)   0           ['block_4_add[0][0]',            \n",
            "                                                                  'block_5_project_BN[0][0]']     \n",
            "                                                                                                  \n",
            " block_6_expand (Conv2D)        (None, 28, 28, 192)  6144        ['block_5_add[0][0]']            \n",
            "                                                                                                  \n",
            " block_6_expand_BN (BatchNormal  (None, 28, 28, 192)  768        ['block_6_expand[0][0]']         \n",
            " ization)                                                                                         \n",
            "                                                                                                  \n",
            " block_6_expand_relu (ReLU)     (None, 28, 28, 192)  0           ['block_6_expand_BN[0][0]']      \n",
            "                                                                                                  \n",
            " block_6_pad (ZeroPadding2D)    (None, 29, 29, 192)  0           ['block_6_expand_relu[0][0]']    \n",
            "                                                                                                  \n",
            " block_6_depthwise (DepthwiseCo  (None, 14, 14, 192)  1728       ['block_6_pad[0][0]']            \n",
            " nv2D)                                                                                            \n",
            "                                                                                                  \n",
            " block_6_depthwise_BN (BatchNor  (None, 14, 14, 192)  768        ['block_6_depthwise[0][0]']      \n",
            " malization)                                                                                      \n",
            "                                                                                                  \n",
            " block_6_depthwise_relu (ReLU)  (None, 14, 14, 192)  0           ['block_6_depthwise_BN[0][0]']   \n",
            "                                                                                                  \n",
            " block_6_project (Conv2D)       (None, 14, 14, 64)   12288       ['block_6_depthwise_relu[0][0]'] \n",
            "                                                                                                  \n",
            " block_6_project_BN (BatchNorma  (None, 14, 14, 64)  256         ['block_6_project[0][0]']        \n",
            " lization)                                                                                        \n",
            "                                                                                                  \n",
            " block_7_expand (Conv2D)        (None, 14, 14, 384)  24576       ['block_6_project_BN[0][0]']     \n",
            "                                                                                                  \n",
            " block_7_expand_BN (BatchNormal  (None, 14, 14, 384)  1536       ['block_7_expand[0][0]']         \n",
            " ization)                                                                                         \n",
            "                                                                                                  \n",
            " block_7_expand_relu (ReLU)     (None, 14, 14, 384)  0           ['block_7_expand_BN[0][0]']      \n",
            "                                                                                                  \n",
            " block_7_depthwise (DepthwiseCo  (None, 14, 14, 384)  3456       ['block_7_expand_relu[0][0]']    \n",
            " nv2D)                                                                                            \n",
            "                                                                                                  \n",
            " block_7_depthwise_BN (BatchNor  (None, 14, 14, 384)  1536       ['block_7_depthwise[0][0]']      \n",
            " malization)                                                                                      \n",
            "                                                                                                  \n",
            " block_7_depthwise_relu (ReLU)  (None, 14, 14, 384)  0           ['block_7_depthwise_BN[0][0]']   \n",
            "                                                                                                  \n",
            " block_7_project (Conv2D)       (None, 14, 14, 64)   24576       ['block_7_depthwise_relu[0][0]'] \n",
            "                                                                                                  \n",
            " block_7_project_BN (BatchNorma  (None, 14, 14, 64)  256         ['block_7_project[0][0]']        \n",
            " lization)                                                                                        \n",
            "                                                                                                  \n",
            " block_7_add (Add)              (None, 14, 14, 64)   0           ['block_6_project_BN[0][0]',     \n",
            "                                                                  'block_7_project_BN[0][0]']     \n",
            "                                                                                                  \n",
            " block_8_expand (Conv2D)        (None, 14, 14, 384)  24576       ['block_7_add[0][0]']            \n",
            "                                                                                                  \n",
            " block_8_expand_BN (BatchNormal  (None, 14, 14, 384)  1536       ['block_8_expand[0][0]']         \n",
            " ization)                                                                                         \n",
            "                                                                                                  \n",
            " block_8_expand_relu (ReLU)     (None, 14, 14, 384)  0           ['block_8_expand_BN[0][0]']      \n",
            "                                                                                                  \n",
            " block_8_depthwise (DepthwiseCo  (None, 14, 14, 384)  3456       ['block_8_expand_relu[0][0]']    \n",
            " nv2D)                                                                                            \n",
            "                                                                                                  \n",
            " block_8_depthwise_BN (BatchNor  (None, 14, 14, 384)  1536       ['block_8_depthwise[0][0]']      \n",
            " malization)                                                                                      \n",
            "                                                                                                  \n",
            " block_8_depthwise_relu (ReLU)  (None, 14, 14, 384)  0           ['block_8_depthwise_BN[0][0]']   \n",
            "                                                                                                  \n",
            " block_8_project (Conv2D)       (None, 14, 14, 64)   24576       ['block_8_depthwise_relu[0][0]'] \n",
            "                                                                                                  \n",
            " block_8_project_BN (BatchNorma  (None, 14, 14, 64)  256         ['block_8_project[0][0]']        \n",
            " lization)                                                                                        \n",
            "                                                                                                  \n",
            " block_8_add (Add)              (None, 14, 14, 64)   0           ['block_7_add[0][0]',            \n",
            "                                                                  'block_8_project_BN[0][0]']     \n",
            "                                                                                                  \n",
            " block_9_expand (Conv2D)        (None, 14, 14, 384)  24576       ['block_8_add[0][0]']            \n",
            "                                                                                                  \n",
            " block_9_expand_BN (BatchNormal  (None, 14, 14, 384)  1536       ['block_9_expand[0][0]']         \n",
            " ization)                                                                                         \n",
            "                                                                                                  \n",
            " block_9_expand_relu (ReLU)     (None, 14, 14, 384)  0           ['block_9_expand_BN[0][0]']      \n",
            "                                                                                                  \n",
            " block_9_depthwise (DepthwiseCo  (None, 14, 14, 384)  3456       ['block_9_expand_relu[0][0]']    \n",
            " nv2D)                                                                                            \n",
            "                                                                                                  \n",
            " block_9_depthwise_BN (BatchNor  (None, 14, 14, 384)  1536       ['block_9_depthwise[0][0]']      \n",
            " malization)                                                                                      \n",
            "                                                                                                  \n",
            " block_9_depthwise_relu (ReLU)  (None, 14, 14, 384)  0           ['block_9_depthwise_BN[0][0]']   \n",
            "                                                                                                  \n",
            " block_9_project (Conv2D)       (None, 14, 14, 64)   24576       ['block_9_depthwise_relu[0][0]'] \n",
            "                                                                                                  \n",
            " block_9_project_BN (BatchNorma  (None, 14, 14, 64)  256         ['block_9_project[0][0]']        \n",
            " lization)                                                                                        \n",
            "                                                                                                  \n",
            " block_9_add (Add)              (None, 14, 14, 64)   0           ['block_8_add[0][0]',            \n",
            "                                                                  'block_9_project_BN[0][0]']     \n",
            "                                                                                                  \n",
            " block_10_expand (Conv2D)       (None, 14, 14, 384)  24576       ['block_9_add[0][0]']            \n",
            "                                                                                                  \n",
            " block_10_expand_BN (BatchNorma  (None, 14, 14, 384)  1536       ['block_10_expand[0][0]']        \n",
            " lization)                                                                                        \n",
            "                                                                                                  \n",
            " block_10_expand_relu (ReLU)    (None, 14, 14, 384)  0           ['block_10_expand_BN[0][0]']     \n",
            "                                                                                                  \n",
            " block_10_depthwise (DepthwiseC  (None, 14, 14, 384)  3456       ['block_10_expand_relu[0][0]']   \n",
            " onv2D)                                                                                           \n",
            "                                                                                                  \n",
            " block_10_depthwise_BN (BatchNo  (None, 14, 14, 384)  1536       ['block_10_depthwise[0][0]']     \n",
            " rmalization)                                                                                     \n",
            "                                                                                                  \n",
            " block_10_depthwise_relu (ReLU)  (None, 14, 14, 384)  0          ['block_10_depthwise_BN[0][0]']  \n",
            "                                                                                                  \n",
            " block_10_project (Conv2D)      (None, 14, 14, 96)   36864       ['block_10_depthwise_relu[0][0]']\n",
            "                                                                                                  \n",
            " block_10_project_BN (BatchNorm  (None, 14, 14, 96)  384         ['block_10_project[0][0]']       \n",
            " alization)                                                                                       \n",
            "                                                                                                  \n",
            " block_11_expand (Conv2D)       (None, 14, 14, 576)  55296       ['block_10_project_BN[0][0]']    \n",
            "                                                                                                  \n",
            " block_11_expand_BN (BatchNorma  (None, 14, 14, 576)  2304       ['block_11_expand[0][0]']        \n",
            " lization)                                                                                        \n",
            "                                                                                                  \n",
            " block_11_expand_relu (ReLU)    (None, 14, 14, 576)  0           ['block_11_expand_BN[0][0]']     \n",
            "                                                                                                  \n",
            " block_11_depthwise (DepthwiseC  (None, 14, 14, 576)  5184       ['block_11_expand_relu[0][0]']   \n",
            " onv2D)                                                                                           \n",
            "                                                                                                  \n",
            " block_11_depthwise_BN (BatchNo  (None, 14, 14, 576)  2304       ['block_11_depthwise[0][0]']     \n",
            " rmalization)                                                                                     \n",
            "                                                                                                  \n",
            " block_11_depthwise_relu (ReLU)  (None, 14, 14, 576)  0          ['block_11_depthwise_BN[0][0]']  \n",
            "                                                                                                  \n",
            " block_11_project (Conv2D)      (None, 14, 14, 96)   55296       ['block_11_depthwise_relu[0][0]']\n",
            "                                                                                                  \n",
            " block_11_project_BN (BatchNorm  (None, 14, 14, 96)  384         ['block_11_project[0][0]']       \n",
            " alization)                                                                                       \n",
            "                                                                                                  \n",
            " block_11_add (Add)             (None, 14, 14, 96)   0           ['block_10_project_BN[0][0]',    \n",
            "                                                                  'block_11_project_BN[0][0]']    \n",
            "                                                                                                  \n",
            " block_12_expand (Conv2D)       (None, 14, 14, 576)  55296       ['block_11_add[0][0]']           \n",
            "                                                                                                  \n",
            " block_12_expand_BN (BatchNorma  (None, 14, 14, 576)  2304       ['block_12_expand[0][0]']        \n",
            " lization)                                                                                        \n",
            "                                                                                                  \n",
            " block_12_expand_relu (ReLU)    (None, 14, 14, 576)  0           ['block_12_expand_BN[0][0]']     \n",
            "                                                                                                  \n",
            " block_12_depthwise (DepthwiseC  (None, 14, 14, 576)  5184       ['block_12_expand_relu[0][0]']   \n",
            " onv2D)                                                                                           \n",
            "                                                                                                  \n",
            " block_12_depthwise_BN (BatchNo  (None, 14, 14, 576)  2304       ['block_12_depthwise[0][0]']     \n",
            " rmalization)                                                                                     \n",
            "                                                                                                  \n",
            " block_12_depthwise_relu (ReLU)  (None, 14, 14, 576)  0          ['block_12_depthwise_BN[0][0]']  \n",
            "                                                                                                  \n",
            " block_12_project (Conv2D)      (None, 14, 14, 96)   55296       ['block_12_depthwise_relu[0][0]']\n",
            "                                                                                                  \n",
            " block_12_project_BN (BatchNorm  (None, 14, 14, 96)  384         ['block_12_project[0][0]']       \n",
            " alization)                                                                                       \n",
            "                                                                                                  \n",
            " block_12_add (Add)             (None, 14, 14, 96)   0           ['block_11_add[0][0]',           \n",
            "                                                                  'block_12_project_BN[0][0]']    \n",
            "                                                                                                  \n",
            " block_13_expand (Conv2D)       (None, 14, 14, 576)  55296       ['block_12_add[0][0]']           \n",
            "                                                                                                  \n",
            " block_13_expand_BN (BatchNorma  (None, 14, 14, 576)  2304       ['block_13_expand[0][0]']        \n",
            " lization)                                                                                        \n",
            "                                                                                                  \n",
            " block_13_expand_relu (ReLU)    (None, 14, 14, 576)  0           ['block_13_expand_BN[0][0]']     \n",
            "                                                                                                  \n",
            " block_13_pad (ZeroPadding2D)   (None, 15, 15, 576)  0           ['block_13_expand_relu[0][0]']   \n",
            "                                                                                                  \n",
            " block_13_depthwise (DepthwiseC  (None, 7, 7, 576)   5184        ['block_13_pad[0][0]']           \n",
            " onv2D)                                                                                           \n",
            "                                                                                                  \n",
            " block_13_depthwise_BN (BatchNo  (None, 7, 7, 576)   2304        ['block_13_depthwise[0][0]']     \n",
            " rmalization)                                                                                     \n",
            "                                                                                                  \n",
            " block_13_depthwise_relu (ReLU)  (None, 7, 7, 576)   0           ['block_13_depthwise_BN[0][0]']  \n",
            "                                                                                                  \n",
            " block_13_project (Conv2D)      (None, 7, 7, 160)    92160       ['block_13_depthwise_relu[0][0]']\n",
            "                                                                                                  \n",
            " block_13_project_BN (BatchNorm  (None, 7, 7, 160)   640         ['block_13_project[0][0]']       \n",
            " alization)                                                                                       \n",
            "                                                                                                  \n",
            " block_14_expand (Conv2D)       (None, 7, 7, 960)    153600      ['block_13_project_BN[0][0]']    \n",
            "                                                                                                  \n",
            " block_14_expand_BN (BatchNorma  (None, 7, 7, 960)   3840        ['block_14_expand[0][0]']        \n",
            " lization)                                                                                        \n",
            "                                                                                                  \n",
            " block_14_expand_relu (ReLU)    (None, 7, 7, 960)    0           ['block_14_expand_BN[0][0]']     \n",
            "                                                                                                  \n",
            " block_14_depthwise (DepthwiseC  (None, 7, 7, 960)   8640        ['block_14_expand_relu[0][0]']   \n",
            " onv2D)                                                                                           \n",
            "                                                                                                  \n",
            " block_14_depthwise_BN (BatchNo  (None, 7, 7, 960)   3840        ['block_14_depthwise[0][0]']     \n",
            " rmalization)                                                                                     \n",
            "                                                                                                  \n",
            " block_14_depthwise_relu (ReLU)  (None, 7, 7, 960)   0           ['block_14_depthwise_BN[0][0]']  \n",
            "                                                                                                  \n",
            " block_14_project (Conv2D)      (None, 7, 7, 160)    153600      ['block_14_depthwise_relu[0][0]']\n",
            "                                                                                                  \n",
            " block_14_project_BN (BatchNorm  (None, 7, 7, 160)   640         ['block_14_project[0][0]']       \n",
            " alization)                                                                                       \n",
            "                                                                                                  \n",
            " block_14_add (Add)             (None, 7, 7, 160)    0           ['block_13_project_BN[0][0]',    \n",
            "                                                                  'block_14_project_BN[0][0]']    \n",
            "                                                                                                  \n",
            " block_15_expand (Conv2D)       (None, 7, 7, 960)    153600      ['block_14_add[0][0]']           \n",
            "                                                                                                  \n",
            " block_15_expand_BN (BatchNorma  (None, 7, 7, 960)   3840        ['block_15_expand[0][0]']        \n",
            " lization)                                                                                        \n",
            "                                                                                                  \n",
            " block_15_expand_relu (ReLU)    (None, 7, 7, 960)    0           ['block_15_expand_BN[0][0]']     \n",
            "                                                                                                  \n",
            " block_15_depthwise (DepthwiseC  (None, 7, 7, 960)   8640        ['block_15_expand_relu[0][0]']   \n",
            " onv2D)                                                                                           \n",
            "                                                                                                  \n",
            " block_15_depthwise_BN (BatchNo  (None, 7, 7, 960)   3840        ['block_15_depthwise[0][0]']     \n",
            " rmalization)                                                                                     \n",
            "                                                                                                  \n",
            " block_15_depthwise_relu (ReLU)  (None, 7, 7, 960)   0           ['block_15_depthwise_BN[0][0]']  \n",
            "                                                                                                  \n",
            " block_15_project (Conv2D)      (None, 7, 7, 160)    153600      ['block_15_depthwise_relu[0][0]']\n",
            "                                                                                                  \n",
            " block_15_project_BN (BatchNorm  (None, 7, 7, 160)   640         ['block_15_project[0][0]']       \n",
            " alization)                                                                                       \n",
            "                                                                                                  \n",
            " block_15_add (Add)             (None, 7, 7, 160)    0           ['block_14_add[0][0]',           \n",
            "                                                                  'block_15_project_BN[0][0]']    \n",
            "                                                                                                  \n",
            " block_16_expand (Conv2D)       (None, 7, 7, 960)    153600      ['block_15_add[0][0]']           \n",
            "                                                                                                  \n",
            " block_16_expand_BN (BatchNorma  (None, 7, 7, 960)   3840        ['block_16_expand[0][0]']        \n",
            " lization)                                                                                        \n",
            "                                                                                                  \n",
            " block_16_expand_relu (ReLU)    (None, 7, 7, 960)    0           ['block_16_expand_BN[0][0]']     \n",
            "                                                                                                  \n",
            " block_16_depthwise (DepthwiseC  (None, 7, 7, 960)   8640        ['block_16_expand_relu[0][0]']   \n",
            " onv2D)                                                                                           \n",
            "                                                                                                  \n",
            " block_16_depthwise_BN (BatchNo  (None, 7, 7, 960)   3840        ['block_16_depthwise[0][0]']     \n",
            " rmalization)                                                                                     \n",
            "                                                                                                  \n",
            " block_16_depthwise_relu (ReLU)  (None, 7, 7, 960)   0           ['block_16_depthwise_BN[0][0]']  \n",
            "                                                                                                  \n",
            " block_16_project (Conv2D)      (None, 7, 7, 320)    307200      ['block_16_depthwise_relu[0][0]']\n",
            "                                                                                                  \n",
            " block_16_project_BN (BatchNorm  (None, 7, 7, 320)   1280        ['block_16_project[0][0]']       \n",
            " alization)                                                                                       \n",
            "                                                                                                  \n",
            " Conv_1 (Conv2D)                (None, 7, 7, 1280)   409600      ['block_16_project_BN[0][0]']    \n",
            "                                                                                                  \n",
            " Conv_1_bn (BatchNormalization)  (None, 7, 7, 1280)  5120        ['Conv_1[0][0]']                 \n",
            "                                                                                                  \n",
            " out_relu (ReLU)                (None, 7, 7, 1280)   0           ['Conv_1_bn[0][0]']              \n",
            "                                                                                                  \n",
            "==================================================================================================\n",
            "Total params: 2,257,984\n",
            "Trainable params: 0\n",
            "Non-trainable params: 2,257,984\n",
            "__________________________________________________________________________________________________\n"
          ]
        }
      ]
    },
    {
      "cell_type": "code",
      "source": [
        "import keras\n",
        "from keras import backend as K\n",
        "from keras.models import Sequential\n",
        "from keras import layers\n",
        "from keras.utils.np_utils import to_categorical\n",
        "\n",
        "from sklearn.model_selection import train_test_split"
      ],
      "metadata": {
        "id": "zH2MF-4mJLOc"
      },
      "execution_count": null,
      "outputs": []
    },
    {
      "cell_type": "markdown",
      "source": [
        "**Pembuatan Model (Menambah Model untuk Melakukan Klasifikasi**"
      ],
      "metadata": {
        "id": "Hg7j1UsPm1pE"
      }
    },
    {
      "cell_type": "code",
      "source": [
        "model = tf.keras.Sequential([\n",
        "    base_model,    \n",
        "    tf.keras.layers.Conv2D(32, 3, activation='relu'),\n",
        "    #tf.keras.layers.Dropout(0.2),\n",
        "    tf.keras.layers.GlobalAveragePooling2D(),\n",
        "    tf.keras.layers.Dense(7, activation='softmax')\n",
        "])"
      ],
      "metadata": {
        "id": "FrVvOcQMOXFD"
      },
      "execution_count": null,
      "outputs": []
    },
    {
      "cell_type": "code",
      "source": [
        "model.compile(optimizer='adam', loss='binary_crossentropy', metrics=['accuracy'])\n",
        "model.summary()"
      ],
      "metadata": {
        "colab": {
          "base_uri": "https://localhost:8080/"
        },
        "id": "CxnPwaUgZjw4",
        "outputId": "750f4556-525a-4288-c127-e6e3d9ac9585"
      },
      "execution_count": null,
      "outputs": [
        {
          "output_type": "stream",
          "name": "stdout",
          "text": [
            "Model: \"sequential\"\n",
            "_________________________________________________________________\n",
            " Layer (type)                Output Shape              Param #   \n",
            "=================================================================\n",
            " mobilenetv2_1.00_224 (Funct  (None, 7, 7, 1280)       2257984   \n",
            " ional)                                                          \n",
            "                                                                 \n",
            " conv2d (Conv2D)             (None, 5, 5, 32)          368672    \n",
            "                                                                 \n",
            " global_average_pooling2d (G  (None, 32)               0         \n",
            " lobalAveragePooling2D)                                          \n",
            "                                                                 \n",
            " dense (Dense)               (None, 7)                 231       \n",
            "                                                                 \n",
            "=================================================================\n",
            "Total params: 2,626,887\n",
            "Trainable params: 368,903\n",
            "Non-trainable params: 2,257,984\n",
            "_________________________________________________________________\n"
          ]
        }
      ]
    },
    {
      "cell_type": "code",
      "source": [
        "len(model.trainable_variables)"
      ],
      "metadata": {
        "colab": {
          "base_uri": "https://localhost:8080/"
        },
        "id": "nK6ZmNbWP9RI",
        "outputId": "e790c8fd-1b7d-4d53-b0de-61ba9e096e9b"
      },
      "execution_count": null,
      "outputs": [
        {
          "output_type": "execute_result",
          "data": {
            "text/plain": [
              "4"
            ]
          },
          "metadata": {},
          "execution_count": 15
        }
      ]
    },
    {
      "cell_type": "code",
      "source": [
        "learning_rate = 0.0001\n",
        "model.compile(optimizer=tf.keras.optimizers.RMSprop(lr=learning_rate),\n",
        "              loss=tf.keras.losses.BinaryCrossentropy(from_logits=False),\n",
        "              metrics=['accuracy'])"
      ],
      "metadata": {
        "colab": {
          "base_uri": "https://localhost:8080/"
        },
        "id": "AYRMrI8hQhP-",
        "outputId": "ddefd571-ede5-4e59-85cb-b69a2b46bf35"
      },
      "execution_count": null,
      "outputs": [
        {
          "output_type": "stream",
          "name": "stderr",
          "text": [
            "WARNING:absl:`lr` is deprecated in Keras optimizer, please use `learning_rate` or use the legacy optimizer, e.g.,tf.keras.optimizers.legacy.RMSprop.\n"
          ]
        }
      ]
    },
    {
      "cell_type": "code",
      "source": [
        "model.summary()"
      ],
      "metadata": {
        "colab": {
          "base_uri": "https://localhost:8080/"
        },
        "id": "9X0ihfQsQkTU",
        "outputId": "4f3dc270-0b70-4683-de7f-6eee101eeeba"
      },
      "execution_count": null,
      "outputs": [
        {
          "output_type": "stream",
          "name": "stdout",
          "text": [
            "Model: \"sequential\"\n",
            "_________________________________________________________________\n",
            " Layer (type)                Output Shape              Param #   \n",
            "=================================================================\n",
            " mobilenetv2_1.00_224 (Funct  (None, 7, 7, 1280)       2257984   \n",
            " ional)                                                          \n",
            "                                                                 \n",
            " conv2d (Conv2D)             (None, 5, 5, 32)          368672    \n",
            "                                                                 \n",
            " global_average_pooling2d (G  (None, 32)               0         \n",
            " lobalAveragePooling2D)                                          \n",
            "                                                                 \n",
            " dense (Dense)               (None, 7)                 231       \n",
            "                                                                 \n",
            "=================================================================\n",
            "Total params: 2,626,887\n",
            "Trainable params: 368,903\n",
            "Non-trainable params: 2,257,984\n",
            "_________________________________________________________________\n"
          ]
        }
      ]
    },
    {
      "cell_type": "code",
      "source": [
        "len(model.trainable_variables)"
      ],
      "metadata": {
        "colab": {
          "base_uri": "https://localhost:8080/"
        },
        "id": "xW7uZKbCQoS8",
        "outputId": "341887f2-f5ee-43c0-f2fc-9a97df0c451f"
      },
      "execution_count": null,
      "outputs": [
        {
          "output_type": "execute_result",
          "data": {
            "text/plain": [
              "4"
            ]
          },
          "metadata": {},
          "execution_count": 18
        }
      ]
    },
    {
      "cell_type": "markdown",
      "source": [
        "**Train the Model**"
      ],
      "metadata": {
        "id": "N40lRS8TaZNL"
      }
    },
    {
      "cell_type": "code",
      "source": [
        "initial_epochs = 100\n",
        "validation_steps = 250\n",
        "loss0, accuracy0 = model.evaluate(validation_generator, steps=validation_steps)"
      ],
      "metadata": {
        "colab": {
          "base_uri": "https://localhost:8080/"
        },
        "id": "YL6b6jmxQCtm",
        "outputId": "7d10f0b0-c3c5-4ad8-d5f3-d55be90bef9c"
      },
      "execution_count": null,
      "outputs": [
        {
          "output_type": "stream",
          "name": "stdout",
          "text": [
            "  4/250 [..............................] - ETA: 35:43 - loss: 0.3374 - accuracy: 0.5277"
          ]
        },
        {
          "output_type": "stream",
          "name": "stderr",
          "text": [
            "WARNING:tensorflow:Your input ran out of data; interrupting training. Make sure that your dataset or generator can generate at least `steps_per_epoch * epochs` batches (in this case, 250 batches). You may need to use the repeat() function when building your dataset.\n"
          ]
        },
        {
          "output_type": "stream",
          "name": "stdout",
          "text": [
            "\b\b\b\b\b\b\b\b\b\b\b\b\b\b\b\b\b\b\b\b\b\b\b\b\b\b\b\b\b\b\b\b\b\b\b\b\b\b\b\b\b\b\b\b\b\b\b\b\b\b\b\b\b\b\b\b\b\b\b\b\b\b\b\b\b\b\b\b\b\b\b\b\b\b\b\b\b\b\b\b\b\b\b\b\b\b\b\r250/250 [==============================] - 39s 105ms/step - loss: 0.3374 - accuracy: 0.5277\n"
          ]
        }
      ]
    },
    {
      "cell_type": "code",
      "source": [
        "# Initial Loss and Accuracy of the model\n",
        "print(\"initial loss: {:.2f}\".format(loss0))\n",
        "print(\"initial accuracy: {:.2f}\".format(accuracy0))"
      ],
      "metadata": {
        "colab": {
          "base_uri": "https://localhost:8080/"
        },
        "id": "s-IUaOEafPI7",
        "outputId": "7a2a58ab-14ac-4a44-9ab7-7234cc51d244"
      },
      "execution_count": null,
      "outputs": [
        {
          "output_type": "stream",
          "name": "stdout",
          "text": [
            "initial loss: 0.34\n",
            "initial accuracy: 0.53\n"
          ]
        }
      ]
    },
    {
      "cell_type": "code",
      "source": [
        "history = model.fit(train_generator, \n",
        "                    epochs=initial_epochs,\n",
        "                    validation_data=validation_generator)"
      ],
      "metadata": {
        "colab": {
          "base_uri": "https://localhost:8080/"
        },
        "id": "MvfXCAVslXwT",
        "outputId": "d72d8af6-48f0-4e06-c78f-4cfefd588b7b"
      },
      "execution_count": null,
      "outputs": [
        {
          "output_type": "stream",
          "name": "stdout",
          "text": [
            "Epoch 1/100\n",
            "13/13 [==============================] - 226s 18s/step - loss: 0.3894 - accuracy: 0.4744 - val_loss: 0.3082 - val_accuracy: 0.6053\n",
            "Epoch 2/100\n",
            "13/13 [==============================] - 172s 13s/step - loss: 0.3095 - accuracy: 0.5731 - val_loss: 0.3382 - val_accuracy: 0.5455\n",
            "Epoch 3/100\n",
            "13/13 [==============================] - 166s 13s/step - loss: 0.3243 - accuracy: 0.5655 - val_loss: 0.3405 - val_accuracy: 0.5987\n",
            "Epoch 4/100\n",
            "13/13 [==============================] - 167s 13s/step - loss: 0.3270 - accuracy: 0.5383 - val_loss: 0.3768 - val_accuracy: 0.4257\n",
            "Epoch 5/100\n",
            "13/13 [==============================] - 176s 13s/step - loss: 0.3126 - accuracy: 0.5610 - val_loss: 0.3194 - val_accuracy: 0.5920\n",
            "Epoch 6/100\n",
            "13/13 [==============================] - 170s 13s/step - loss: 0.3309 - accuracy: 0.5421 - val_loss: 0.3415 - val_accuracy: 0.6075\n",
            "Epoch 7/100\n",
            "13/13 [==============================] - 167s 13s/step - loss: 0.2935 - accuracy: 0.6009 - val_loss: 0.3141 - val_accuracy: 0.6231\n",
            "Epoch 8/100\n",
            "13/13 [==============================] - 173s 14s/step - loss: 0.2963 - accuracy: 0.5800 - val_loss: 0.3919 - val_accuracy: 0.4745\n",
            "Epoch 9/100\n",
            "13/13 [==============================] - 171s 13s/step - loss: 0.3169 - accuracy: 0.5642 - val_loss: 0.2882 - val_accuracy: 0.6053\n",
            "Epoch 10/100\n",
            "13/13 [==============================] - 170s 13s/step - loss: 0.2879 - accuracy: 0.5952 - val_loss: 0.3316 - val_accuracy: 0.4967\n",
            "Epoch 11/100\n",
            "13/13 [==============================] - 177s 14s/step - loss: 0.2827 - accuracy: 0.6003 - val_loss: 0.2831 - val_accuracy: 0.5965\n",
            "Epoch 12/100\n",
            "13/13 [==============================] - 169s 13s/step - loss: 0.2698 - accuracy: 0.6319 - val_loss: 0.3494 - val_accuracy: 0.5255\n",
            "Epoch 13/100\n",
            "13/13 [==============================] - 170s 13s/step - loss: 0.2840 - accuracy: 0.5977 - val_loss: 0.2820 - val_accuracy: 0.6208\n",
            "Epoch 14/100\n",
            "13/13 [==============================] - 217s 17s/step - loss: 0.2663 - accuracy: 0.6256 - val_loss: 0.3107 - val_accuracy: 0.6430\n",
            "Epoch 15/100\n",
            "13/13 [==============================] - 167s 13s/step - loss: 0.2987 - accuracy: 0.5952 - val_loss: 0.2941 - val_accuracy: 0.6231\n",
            "Epoch 16/100\n",
            "13/13 [==============================] - 171s 13s/step - loss: 0.2507 - accuracy: 0.6534 - val_loss: 0.3263 - val_accuracy: 0.6186\n",
            "Epoch 17/100\n",
            "13/13 [==============================] - 173s 13s/step - loss: 0.2843 - accuracy: 0.6135 - val_loss: 0.3081 - val_accuracy: 0.5898\n",
            "Epoch 18/100\n",
            "13/13 [==============================] - 181s 14s/step - loss: 0.2546 - accuracy: 0.6471 - val_loss: 0.3055 - val_accuracy: 0.6009\n",
            "Epoch 19/100\n",
            "13/13 [==============================] - 172s 13s/step - loss: 0.2601 - accuracy: 0.6344 - val_loss: 0.2908 - val_accuracy: 0.6696\n",
            "Epoch 20/100\n",
            "13/13 [==============================] - 170s 13s/step - loss: 0.2468 - accuracy: 0.6793 - val_loss: 0.2922 - val_accuracy: 0.5942\n",
            "Epoch 21/100\n",
            "13/13 [==============================] - 173s 13s/step - loss: 0.2510 - accuracy: 0.6483 - val_loss: 0.3644 - val_accuracy: 0.5831\n",
            "Epoch 22/100\n",
            "13/13 [==============================] - 170s 13s/step - loss: 0.2552 - accuracy: 0.6312 - val_loss: 0.4466 - val_accuracy: 0.4479\n",
            "Epoch 23/100\n",
            "13/13 [==============================] - 170s 13s/step - loss: 0.2473 - accuracy: 0.6679 - val_loss: 0.3610 - val_accuracy: 0.5388\n",
            "Epoch 24/100\n",
            "13/13 [==============================] - 174s 13s/step - loss: 0.2540 - accuracy: 0.6546 - val_loss: 0.2980 - val_accuracy: 0.6053\n",
            "Epoch 25/100\n",
            "13/13 [==============================] - 168s 13s/step - loss: 0.2432 - accuracy: 0.6603 - val_loss: 0.2777 - val_accuracy: 0.6098\n",
            "Epoch 26/100\n",
            "13/13 [==============================] - 167s 13s/step - loss: 0.2440 - accuracy: 0.6597 - val_loss: 0.3046 - val_accuracy: 0.6452\n",
            "Epoch 27/100\n",
            "13/13 [==============================] - 176s 14s/step - loss: 0.2369 - accuracy: 0.6749 - val_loss: 0.2868 - val_accuracy: 0.5876\n",
            "Epoch 28/100\n",
            "13/13 [==============================] - 169s 13s/step - loss: 0.2246 - accuracy: 0.6882 - val_loss: 0.5191 - val_accuracy: 0.3792\n",
            "Epoch 29/100\n",
            "13/13 [==============================] - 169s 13s/step - loss: 0.2409 - accuracy: 0.6698 - val_loss: 0.3032 - val_accuracy: 0.6829\n",
            "Epoch 30/100\n",
            "13/13 [==============================] - 178s 14s/step - loss: 0.2341 - accuracy: 0.6850 - val_loss: 0.4010 - val_accuracy: 0.5831\n",
            "Epoch 31/100\n",
            "13/13 [==============================] - 167s 13s/step - loss: 0.2392 - accuracy: 0.6705 - val_loss: 0.2707 - val_accuracy: 0.6208\n",
            "Epoch 32/100\n",
            "13/13 [==============================] - 164s 13s/step - loss: 0.2573 - accuracy: 0.6445 - val_loss: 0.3044 - val_accuracy: 0.6009\n",
            "Epoch 33/100\n",
            "13/13 [==============================] - 170s 13s/step - loss: 0.2036 - accuracy: 0.7154 - val_loss: 0.2989 - val_accuracy: 0.6541\n",
            "Epoch 34/100\n",
            "13/13 [==============================] - 168s 13s/step - loss: 0.2211 - accuracy: 0.6882 - val_loss: 0.3104 - val_accuracy: 0.6075\n",
            "Epoch 35/100\n",
            "13/13 [==============================] - 171s 13s/step - loss: 0.2315 - accuracy: 0.6951 - val_loss: 0.3273 - val_accuracy: 0.6563\n",
            "Epoch 36/100\n",
            "13/13 [==============================] - 210s 16s/step - loss: 0.2193 - accuracy: 0.6920 - val_loss: 0.3072 - val_accuracy: 0.6741\n",
            "Epoch 37/100\n",
            "13/13 [==============================] - 169s 13s/step - loss: 0.2234 - accuracy: 0.6888 - val_loss: 0.2762 - val_accuracy: 0.6741\n",
            "Epoch 38/100\n",
            "13/13 [==============================] - 170s 13s/step - loss: 0.2228 - accuracy: 0.6882 - val_loss: 0.3101 - val_accuracy: 0.5743\n",
            "Epoch 39/100\n",
            "13/13 [==============================] - 169s 13s/step - loss: 0.2203 - accuracy: 0.7059 - val_loss: 0.3169 - val_accuracy: 0.6452\n",
            "Epoch 40/100\n",
            "13/13 [==============================] - 171s 14s/step - loss: 0.2112 - accuracy: 0.7280 - val_loss: 0.2458 - val_accuracy: 0.7029\n",
            "Epoch 41/100\n",
            "13/13 [==============================] - 171s 14s/step - loss: 0.2184 - accuracy: 0.7021 - val_loss: 0.2902 - val_accuracy: 0.6541\n",
            "Epoch 42/100\n",
            "13/13 [==============================] - 169s 13s/step - loss: 0.2107 - accuracy: 0.7122 - val_loss: 0.2886 - val_accuracy: 0.6541\n",
            "Epoch 43/100\n",
            "13/13 [==============================] - 175s 13s/step - loss: 0.2331 - accuracy: 0.6970 - val_loss: 0.3097 - val_accuracy: 0.6208\n",
            "Epoch 44/100\n",
            "13/13 [==============================] - 173s 14s/step - loss: 0.2197 - accuracy: 0.6945 - val_loss: 0.3020 - val_accuracy: 0.6585\n",
            "Epoch 45/100\n",
            "13/13 [==============================] - 169s 13s/step - loss: 0.2105 - accuracy: 0.7223 - val_loss: 0.2561 - val_accuracy: 0.6696\n",
            "Epoch 46/100\n",
            "13/13 [==============================] - 174s 14s/step - loss: 0.2020 - accuracy: 0.7324 - val_loss: 0.2665 - val_accuracy: 0.6940\n",
            "Epoch 47/100\n",
            "13/13 [==============================] - 165s 13s/step - loss: 0.2116 - accuracy: 0.7179 - val_loss: 0.2947 - val_accuracy: 0.6563\n",
            "Epoch 48/100\n",
            "13/13 [==============================] - 168s 13s/step - loss: 0.1995 - accuracy: 0.7211 - val_loss: 0.3024 - val_accuracy: 0.6829\n",
            "Epoch 49/100\n",
            "13/13 [==============================] - 180s 14s/step - loss: 0.2070 - accuracy: 0.7261 - val_loss: 0.2764 - val_accuracy: 0.6918\n",
            "Epoch 50/100\n",
            "13/13 [==============================] - 171s 13s/step - loss: 0.2110 - accuracy: 0.7236 - val_loss: 0.2657 - val_accuracy: 0.6608\n",
            "Epoch 51/100\n",
            "13/13 [==============================] - 168s 13s/step - loss: 0.1992 - accuracy: 0.7230 - val_loss: 0.2967 - val_accuracy: 0.6608\n",
            "Epoch 52/100\n",
            "13/13 [==============================] - 208s 17s/step - loss: 0.2011 - accuracy: 0.7236 - val_loss: 0.2507 - val_accuracy: 0.6430\n",
            "Epoch 53/100\n",
            "13/13 [==============================] - 171s 13s/step - loss: 0.1939 - accuracy: 0.7331 - val_loss: 0.2822 - val_accuracy: 0.6763\n",
            "Epoch 54/100\n",
            "13/13 [==============================] - 170s 13s/step - loss: 0.2010 - accuracy: 0.7312 - val_loss: 0.2861 - val_accuracy: 0.6829\n",
            "Epoch 55/100\n",
            "13/13 [==============================] - 168s 13s/step - loss: 0.1949 - accuracy: 0.7381 - val_loss: 0.2799 - val_accuracy: 0.6984\n",
            "Epoch 56/100\n",
            "13/13 [==============================] - 180s 14s/step - loss: 0.1877 - accuracy: 0.7584 - val_loss: 0.3102 - val_accuracy: 0.6718\n",
            "Epoch 57/100\n",
            "13/13 [==============================] - 171s 13s/step - loss: 0.2139 - accuracy: 0.7141 - val_loss: 0.2666 - val_accuracy: 0.6608\n",
            "Epoch 58/100\n",
            "13/13 [==============================] - 168s 13s/step - loss: 0.1970 - accuracy: 0.7533 - val_loss: 0.2924 - val_accuracy: 0.6807\n",
            "Epoch 59/100\n",
            "13/13 [==============================] - 176s 14s/step - loss: 0.1918 - accuracy: 0.7388 - val_loss: 0.2832 - val_accuracy: 0.6962\n",
            "Epoch 60/100\n",
            "13/13 [==============================] - 170s 13s/step - loss: 0.1826 - accuracy: 0.7748 - val_loss: 0.3036 - val_accuracy: 0.6164\n",
            "Epoch 61/100\n",
            "13/13 [==============================] - 164s 13s/step - loss: 0.2043 - accuracy: 0.7204 - val_loss: 0.3113 - val_accuracy: 0.6541\n",
            "Epoch 62/100\n",
            "13/13 [==============================] - 212s 17s/step - loss: 0.1856 - accuracy: 0.7552 - val_loss: 0.3244 - val_accuracy: 0.6918\n",
            "Epoch 63/100\n",
            "13/13 [==============================] - 176s 14s/step - loss: 0.1904 - accuracy: 0.7521 - val_loss: 0.2460 - val_accuracy: 0.7228\n",
            "Epoch 64/100\n",
            "13/13 [==============================] - 171s 14s/step - loss: 0.1840 - accuracy: 0.7508 - val_loss: 0.2964 - val_accuracy: 0.6741\n",
            "Epoch 65/100\n",
            "13/13 [==============================] - 176s 14s/step - loss: 0.1864 - accuracy: 0.7546 - val_loss: 0.2689 - val_accuracy: 0.6851\n",
            "Epoch 66/100\n",
            "13/13 [==============================] - 169s 13s/step - loss: 0.1869 - accuracy: 0.7527 - val_loss: 0.2416 - val_accuracy: 0.7406\n",
            "Epoch 67/100\n",
            "13/13 [==============================] - 169s 13s/step - loss: 0.1849 - accuracy: 0.7603 - val_loss: 0.2945 - val_accuracy: 0.6918\n",
            "Epoch 68/100\n",
            "13/13 [==============================] - 209s 17s/step - loss: 0.1833 - accuracy: 0.7565 - val_loss: 0.2519 - val_accuracy: 0.7206\n",
            "Epoch 69/100\n",
            "13/13 [==============================] - 167s 13s/step - loss: 0.1924 - accuracy: 0.7596 - val_loss: 0.2440 - val_accuracy: 0.7561\n",
            "Epoch 70/100\n",
            "13/13 [==============================] - 166s 13s/step - loss: 0.1774 - accuracy: 0.7609 - val_loss: 0.2633 - val_accuracy: 0.7406\n",
            "Epoch 71/100\n",
            "13/13 [==============================] - 164s 13s/step - loss: 0.1711 - accuracy: 0.7805 - val_loss: 0.2369 - val_accuracy: 0.7605\n",
            "Epoch 72/100\n",
            "13/13 [==============================] - 168s 14s/step - loss: 0.1950 - accuracy: 0.7426 - val_loss: 0.2591 - val_accuracy: 0.7339\n",
            "Epoch 73/100\n",
            "13/13 [==============================] - 167s 13s/step - loss: 0.1734 - accuracy: 0.7875 - val_loss: 0.2608 - val_accuracy: 0.7118\n",
            "Epoch 74/100\n",
            "13/13 [==============================] - 170s 13s/step - loss: 0.1759 - accuracy: 0.7679 - val_loss: 0.2450 - val_accuracy: 0.6940\n",
            "Epoch 75/100\n",
            "13/13 [==============================] - 177s 14s/step - loss: 0.1846 - accuracy: 0.7476 - val_loss: 0.2635 - val_accuracy: 0.7406\n",
            "Epoch 76/100\n",
            "13/13 [==============================] - 164s 12s/step - loss: 0.1674 - accuracy: 0.7805 - val_loss: 0.2419 - val_accuracy: 0.7450\n",
            "Epoch 77/100\n",
            "13/13 [==============================] - 167s 13s/step - loss: 0.1752 - accuracy: 0.7805 - val_loss: 0.2643 - val_accuracy: 0.7361\n",
            "Epoch 78/100\n",
            "13/13 [==============================] - 179s 14s/step - loss: 0.1814 - accuracy: 0.7767 - val_loss: 0.2665 - val_accuracy: 0.7539\n",
            "Epoch 79/100\n",
            "13/13 [==============================] - 166s 13s/step - loss: 0.1773 - accuracy: 0.7761 - val_loss: 0.2305 - val_accuracy: 0.7295\n",
            "Epoch 80/100\n",
            "13/13 [==============================] - 167s 13s/step - loss: 0.1632 - accuracy: 0.7856 - val_loss: 0.2754 - val_accuracy: 0.7406\n",
            "Epoch 81/100\n",
            "13/13 [==============================] - 211s 17s/step - loss: 0.1700 - accuracy: 0.7755 - val_loss: 0.2432 - val_accuracy: 0.7583\n",
            "Epoch 82/100\n",
            "13/13 [==============================] - 168s 13s/step - loss: 0.1800 - accuracy: 0.7584 - val_loss: 0.2722 - val_accuracy: 0.6984\n",
            "Epoch 83/100\n",
            "13/13 [==============================] - 172s 13s/step - loss: 0.1740 - accuracy: 0.7641 - val_loss: 0.2525 - val_accuracy: 0.7339\n",
            "Epoch 84/100\n",
            "13/13 [==============================] - 166s 13s/step - loss: 0.1785 - accuracy: 0.7672 - val_loss: 0.2927 - val_accuracy: 0.7317\n",
            "Epoch 85/100\n",
            "13/13 [==============================] - 173s 13s/step - loss: 0.1644 - accuracy: 0.7849 - val_loss: 0.2574 - val_accuracy: 0.7539\n",
            "Epoch 86/100\n",
            "13/13 [==============================] - 164s 13s/step - loss: 0.1602 - accuracy: 0.7932 - val_loss: 0.2639 - val_accuracy: 0.7273\n",
            "Epoch 87/100\n",
            "13/13 [==============================] - 167s 13s/step - loss: 0.1685 - accuracy: 0.7887 - val_loss: 0.2460 - val_accuracy: 0.7627\n",
            "Epoch 88/100\n",
            "13/13 [==============================] - 175s 14s/step - loss: 0.1851 - accuracy: 0.7546 - val_loss: 0.2673 - val_accuracy: 0.7251\n",
            "Epoch 89/100\n",
            "13/13 [==============================] - 171s 13s/step - loss: 0.1621 - accuracy: 0.7906 - val_loss: 0.2620 - val_accuracy: 0.7494\n",
            "Epoch 90/100\n",
            "13/13 [==============================] - 163s 13s/step - loss: 0.1539 - accuracy: 0.8020 - val_loss: 0.2511 - val_accuracy: 0.7095\n",
            "Epoch 91/100\n",
            "13/13 [==============================] - 172s 14s/step - loss: 0.1532 - accuracy: 0.8014 - val_loss: 0.2667 - val_accuracy: 0.7472\n",
            "Epoch 92/100\n",
            "13/13 [==============================] - 171s 13s/step - loss: 0.1676 - accuracy: 0.7881 - val_loss: 0.2444 - val_accuracy: 0.7716\n",
            "Epoch 93/100\n",
            "13/13 [==============================] - 164s 12s/step - loss: 0.1607 - accuracy: 0.7951 - val_loss: 0.2762 - val_accuracy: 0.7539\n",
            "Epoch 94/100\n",
            "13/13 [==============================] - 173s 13s/step - loss: 0.1504 - accuracy: 0.8058 - val_loss: 0.2516 - val_accuracy: 0.7384\n",
            "Epoch 95/100\n",
            "13/13 [==============================] - 167s 13s/step - loss: 0.1575 - accuracy: 0.7944 - val_loss: 0.2378 - val_accuracy: 0.7361\n",
            "Epoch 96/100\n",
            "13/13 [==============================] - 164s 13s/step - loss: 0.1596 - accuracy: 0.7963 - val_loss: 0.2401 - val_accuracy: 0.7251\n",
            "Epoch 97/100\n",
            "13/13 [==============================] - 169s 13s/step - loss: 0.1531 - accuracy: 0.8065 - val_loss: 0.2465 - val_accuracy: 0.7295\n",
            "Epoch 98/100\n",
            "13/13 [==============================] - 176s 14s/step - loss: 0.1475 - accuracy: 0.8077 - val_loss: 0.2644 - val_accuracy: 0.7273\n",
            "Epoch 99/100\n",
            "13/13 [==============================] - 168s 13s/step - loss: 0.1532 - accuracy: 0.8001 - val_loss: 0.2416 - val_accuracy: 0.7517\n",
            "Epoch 100/100\n",
            "13/13 [==============================] - 167s 13s/step - loss: 0.1556 - accuracy: 0.8090 - val_loss: 0.2365 - val_accuracy: 0.7450\n"
          ]
        }
      ]
    },
    {
      "cell_type": "code",
      "source": [
        "# Evaluating the loss and accuracy of the model\n",
        "loss, acc = model.evaluate(validation_generator)"
      ],
      "metadata": {
        "colab": {
          "base_uri": "https://localhost:8080/"
        },
        "id": "TiwAhOlZkcpA",
        "outputId": "44304c2b-b43c-4226-bc80-7e52f18888ec"
      },
      "execution_count": null,
      "outputs": [
        {
          "output_type": "stream",
          "name": "stdout",
          "text": [
            "4/4 [==============================] - 38s 9s/step - loss: 0.2365 - accuracy: 0.7450\n"
          ]
        }
      ]
    },
    {
      "cell_type": "code",
      "source": [
        "model.save('your_model.h5')"
      ],
      "metadata": {
        "id": "dYdiMp7278bM"
      },
      "execution_count": null,
      "outputs": []
    },
    {
      "cell_type": "code",
      "source": [
        "from PIL import Image\n",
        "import os\n",
        "\n",
        "# Tentukan direktori gambar Anda\n",
        "image_dir = '/content/drives/MyDrive/Capstone/data jenis plastik/train'\n",
        "image_dir = '/content/drives/MyDrive/Capstone/data jenis plastik/validation'\n",
        "\n",
        "# Loop melalui setiap file gambar dalam direktori\n",
        "for filename in os.listdir(image_dir):\n",
        "    if filename.endswith('.png') or filename.endswith('.jpg'):\n",
        "        # Baca gambar\n",
        "        image_path = os.path.join(image_dir, filename)\n",
        "        image = Image.open(image_path)\n",
        "\n",
        "        # Konversi ke mode RGBA\n",
        "        image_rgba = image.convert('RGBA')\n",
        "\n",
        "        # Simpan gambar kembali dengan mode RGBA\n",
        "        new_filename = f\"rgba_{filename}\"\n",
        "        save_path = os.path.join(image_dir, new_filename)\n",
        "        image_rgba.save(save_path)\n",
        "\n",
        "        print(f\"Gambar {filename} berhasil dikonversi ke mode RGBA.\")"
      ],
      "metadata": {
        "id": "5qfHf-aLtoYg"
      },
      "execution_count": null,
      "outputs": []
    },
    {
      "cell_type": "code",
      "source": [
        "plt.plot(history.history[\"accuracy\"],label=\"Akurasi Pelatihan\")\n",
        "plt.plot(history.history[\"val_accuracy\"],label=\"Validasi Akurasi\")\n",
        "plt.legend()\n",
        "plt.show()\n",
        "\n",
        "plt.plot(history.history[\"loss\"],label=\"Kesalahan Pelatihan\")\n",
        "plt.plot(history.history[\"val_loss\"],label=\"Validasi Kesalahan\")\n",
        "plt.legend()\n",
        "plt.show()"
      ],
      "metadata": {
        "id": "b9VQHv8rO3Uy",
        "colab": {
          "base_uri": "https://localhost:8080/",
          "height": 843
        },
        "outputId": "5e1f4123-64ed-4421-9529-f07bf002c34f"
      },
      "execution_count": null,
      "outputs": [
        {
          "output_type": "display_data",
          "data": {
            "text/plain": [
              "<Figure size 640x480 with 1 Axes>"
            ],
            "image/png": "[encoded data removed]"
          },
          "metadata": {}
        },
        {
          "output_type": "display_data",
          "data": {
            "text/plain": [
              "<Figure size 640x480 with 1 Axes>"
            ],
            "image/png": "[encoded data removed]"
          },
          "metadata": {}
        }
      ]
    },
    {
      "cell_type": "markdown",
      "source": [
        "**Learning Curves**"
      ],
      "metadata": {
        "id": "cpm_X21qspAU"
      }
    },
    {
      "cell_type": "code",
      "source": [
        "acc = history.history['accuracy']\n",
        "val_acc = history.history['val_accuracy']\n",
        "\n",
        "loss = history.history['loss']\n",
        "val_loss = history.history['val_loss']\n",
        "\n",
        "plt.figure(figsize=(8,8))\n",
        "plt.subplot(2,1,1)\n",
        "plt.plot(acc, label='Trainable Accuracy')\n",
        "plt.plot(val_acc, label='Validaiton Accuracy')\n",
        "plt.legend(loc='lower right')\n",
        "plt.ylabel('Accuracy')\n",
        "plt.ylim([min(plt.ylim()), 1])\n",
        "plt.title('Training and Validation Accuracy')\n",
        "\n",
        "plt.subplot(2, 1, 2)\n",
        "plt.plot(loss, label='Training Loss')\n",
        "plt.plot(val_loss, label='Validation Loss')\n",
        "plt.legend(loc='upper right')\n",
        "plt.ylabel('Cross Entropy')\n",
        "plt.ylim([0, 1.0])\n",
        "plt.title('Training and Validation Loss')\n",
        "plt.xlabel('epoch')\n",
        "plt.show()"
      ],
      "metadata": {
        "id": "73Rsfc6WsewW",
        "colab": {
          "base_uri": "https://localhost:8080/",
          "height": 718
        },
        "outputId": "b113be1c-0e67-446b-a77c-581085835911"
      },
      "execution_count": null,
      "outputs": [
        {
          "output_type": "display_data",
          "data": {
            "text/plain": [
              "<Figure size 800x800 with 2 Axes>"
            ],
            "image/png": "[encoded data removed]"
          },
          "metadata": {}
        }
      ]
    },
    {
      "cell_type": "code",
      "source": [
        "import numpy as np\n",
        "from google.colab import files\n",
        "from tensorflow.keras.models import load_model\n",
        "from tensorflow.keras.preprocessing import image\n",
        "\n",
        "uploaded = files.upload()\n",
        "\n",
        "for fn in uploaded.keys():\n",
        "    # Load the image\n",
        "    img_path = fn\n",
        "    img = image.load_img(img_path, target_size=(224, 224))\n",
        "    x = image.img_to_array(img)\n",
        "    x = np.expand_dims(x, axis=0)\n",
        "    x = x / 255.0  # Normalize the image\n",
        "\n",
        "    class_names = ['hdpe', 'ldpe', 'other', 'pet', 'pp', 'ps', 'pvc']\n",
        "\n",
        "    # Load the model and make predictions\n",
        "    model = load_model('your_model.h5')\n",
        "    predictions = model.predict(x)\n",
        "    predicted_class_index = np.argmax(predictions)\n",
        "    predicted_class_name = class_names[predicted_class_index]\n",
        "\n",
        "    print(fn)\n",
        "    print(\"Prediksi:\", predicted_class_name)"
      ],
      "metadata": {
        "id": "Sg7rbCPiB_yN",
        "colab": {
          "base_uri": "https://localhost:8080/",
          "height": 128
        },
        "outputId": "cb3c5455-e81e-4975-e632-45b911406d4b"
      },
      "execution_count": null,
      "outputs": [
        {
          "output_type": "display_data",
          "data": {
            "text/plain": [
              "<IPython.core.display.HTML object>"
            ],
            "text/html": [
              "\n",
              "     <input type=\"file\" id=\"files-becb897e-0f1e-4fd9-a3a4-53792a41b75f\" name=\"files[]\" multiple disabled\n",
              "        style=\"border:none\" />\n",
              "     <output id=\"result-becb897e-0f1e-4fd9-a3a4-53792a41b75f\">\n",
              "      Upload widget is only available when the cell has been executed in the\n",
              "      current browser session. Please rerun this cell to enable.\n",
              "      </output>\n",
              "      <script>// Copyright 2017 Google LLC\n",
              "//\n",
              "// Licensed under the Apache License, Version 2.0 (the \"License\");\n",
              "// you may not use this file except in compliance with the License.\n",
              "// You may obtain a copy of the License at\n",
              "//\n",
              "//      http://www.apache.org/licenses/LICENSE-2.0\n",
              "//\n",
              "// Unless required by applicable law or agreed to in writing, software\n",
              "// distributed under the License is distributed on an \"AS IS\" BASIS,\n",
              "// WITHOUT WARRANTIES OR CONDITIONS OF ANY KIND, either express or implied.\n",
              "// See the License for the specific language governing permissions and\n",
              "// limitations under the License.\n",
              "\n",
              "/**\n",
              " * @fileoverview Helpers for google.colab Python module.\n",
              " */\n",
              "(function(scope) {\n",
              "function span(text, styleAttributes = {}) {\n",
              "  const element = document.createElement('span');\n",
              "  element.textContent = text;\n",
              "  for (const key of Object.keys(styleAttributes)) {\n",
              "    element.style[key] = styleAttributes[key];\n",
              "  }\n",
              "  return element;\n",
              "}\n",
              "\n",
              "// Max number of bytes which will be uploaded at a time.\n",
              "const MAX_PAYLOAD_SIZE = 100 * 1024;\n",
              "\n",
              "function _uploadFiles(inputId, outputId) {\n",
              "  const steps = uploadFilesStep(inputId, outputId);\n",
              "  const outputElement = document.getElementById(outputId);\n",
              "  // Cache steps on the outputElement to make it available for the next call\n",
              "  // to uploadFilesContinue from Python.\n",
              "  outputElement.steps = steps;\n",
              "\n",
              "  return _uploadFilesContinue(outputId);\n",
              "}\n",
              "\n",
              "// This is roughly an async generator (not supported in the browser yet),\n",
              "// where there are multiple asynchronous steps and the Python side is going\n",
              "// to poll for completion of each step.\n",
              "// This uses a Promise to block the python side on completion of each step,\n",
              "// then passes the result of the previous step as the input to the next step.\n",
              "function _uploadFilesContinue(outputId) {\n",
              "  const outputElement = document.getElementById(outputId);\n",
              "  const steps = outputElement.steps;\n",
              "\n",
              "  const next = steps.next(outputElement.lastPromiseValue);\n",
              "  return Promise.resolve(next.value.promise).then((value) => {\n",
              "    // Cache the last promise value to make it available to the next\n",
              "    // step of the generator.\n",
              "    outputElement.lastPromiseValue = value;\n",
              "    return next.value.response;\n",
              "  });\n",
              "}\n",
              "\n",
              "/**\n",
              " * Generator function which is called between each async step of the upload\n",
              " * process.\n",
              " * @param {string} inputId Element ID of the input file picker element.\n",
              " * @param {string} outputId Element ID of the output display.\n",
              " * @return {!Iterable<!Object>} Iterable of next steps.\n",
              " */\n",
              "function* uploadFilesStep(inputId, outputId) {\n",
              "  const inputElement = document.getElementById(inputId);\n",
              "  inputElement.disabled = false;\n",
              "\n",
              "  const outputElement = document.getElementById(outputId);\n",
              "  outputElement.innerHTML = '';\n",
              "\n",
              "  const pickedPromise = new Promise((resolve) => {\n",
              "    inputElement.addEventListener('change', (e) => {\n",
              "      resolve(e.target.files);\n",
              "    });\n",
              "  });\n",
              "\n",
              "  const cancel = document.createElement('button');\n",
              "  inputElement.parentElement.appendChild(cancel);\n",
              "  cancel.textContent = 'Cancel upload';\n",
              "  const cancelPromise = new Promise((resolve) => {\n",
              "    cancel.onclick = () => {\n",
              "      resolve(null);\n",
              "    };\n",
              "  });\n",
              "\n",
              "  // Wait for the user to pick the files.\n",
              "  const files = yield {\n",
              "    promise: Promise.race([pickedPromise, cancelPromise]),\n",
              "    response: {\n",
              "      action: 'starting',\n",
              "    }\n",
              "  };\n",
              "\n",
              "  cancel.remove();\n",
              "\n",
              "  // Disable the input element since further picks are not allowed.\n",
              "  inputElement.disabled = true;\n",
              "\n",
              "  if (!files) {\n",
              "    return {\n",
              "      response: {\n",
              "        action: 'complete',\n",
              "      }\n",
              "    };\n",
              "  }\n",
              "\n",
              "  for (const file of files) {\n",
              "    const li = document.createElement('li');\n",
              "    li.append(span(file.name, {fontWeight: 'bold'}));\n",
              "    li.append(span(\n",
              "        `(${file.type || 'n/a'}) - ${file.size} bytes, ` +\n",
              "        `last modified: ${\n",
              "            file.lastModifiedDate ? file.lastModifiedDate.toLocaleDateString() :\n",
              "                                    'n/a'} - `));\n",
              "    const percent = span('0% done');\n",
              "    li.appendChild(percent);\n",
              "\n",
              "    outputElement.appendChild(li);\n",
              "\n",
              "    const fileDataPromise = new Promise((resolve) => {\n",
              "      const reader = new FileReader();\n",
              "      reader.onload = (e) => {\n",
              "        resolve(e.target.result);\n",
              "      };\n",
              "      reader.readAsArrayBuffer(file);\n",
              "    });\n",
              "    // Wait for the data to be ready.\n",
              "    let fileData = yield {\n",
              "      promise: fileDataPromise,\n",
              "      response: {\n",
              "        action: 'continue',\n",
              "      }\n",
              "    };\n",
              "\n",
              "    // Use a chunked sending to avoid message size limits. See b/62115660.\n",
              "    let position = 0;\n",
              "    do {\n",
              "      const length = Math.min(fileData.byteLength - position, MAX_PAYLOAD_SIZE);\n",
              "      const chunk = new Uint8Array(fileData, position, length);\n",
              "      position += length;\n",
              "\n",
              "      const base64 = btoa(String.fromCharCode.apply(null, chunk));\n",
              "      yield {\n",
              "        response: {\n",
              "          action: 'append',\n",
              "          file: file.name,\n",
              "          data: base64,\n",
              "        },\n",
              "      };\n",
              "\n",
              "      let percentDone = fileData.byteLength === 0 ?\n",
              "          100 :\n",
              "          Math.round((position / fileData.byteLength) * 100);\n",
              "      percent.textContent = `${percentDone}% done`;\n",
              "\n",
              "    } while (position < fileData.byteLength);\n",
              "  }\n",
              "\n",
              "  // All done.\n",
              "  yield {\n",
              "    response: {\n",
              "      action: 'complete',\n",
              "    }\n",
              "  };\n",
              "}\n",
              "\n",
              "scope.google = scope.google || {};\n",
              "scope.google.colab = scope.google.colab || {};\n",
              "scope.google.colab._files = {\n",
              "  _uploadFiles,\n",
              "  _uploadFilesContinue,\n",
              "};\n",
              "})(self);\n",
              "</script> "
            ]
          },
          "metadata": {}
        },
        {
          "output_type": "stream",
          "name": "stdout",
          "text": [
            "Saving 124153_10-12-2019_16-17-51.jpeg to 124153_10-12-2019_16-17-51.jpeg\n",
            "1/1 [==============================] - 1s 891ms/step\n",
            "124153_10-12-2019_16-17-51.jpeg\n",
            "Prediksi: hdpe\n"
          ]
        }
      ]
    },
    {
      "cell_type": "markdown",
      "source": [
        "**Konversi Model ke .tflite**"
      ],
      "metadata": {
        "id": "gozhQvZzqyfp"
      }
    },
    {
      "cell_type": "code",
      "source": [
        "from tensorflow.keras.applications import MobileNetV2\n",
        "from tensorflow.keras.layers import Input\n",
        "\n",
        "input_shape = (224, 224, 3)\n",
        "input_name = 'mobilenetv2_1_00_224_input'\n",
        "\n",
        "# Create the input layer with the desired name\n",
        "input_tensor = Input(shape=input_shape, name=input_name)\n",
        "\n",
        "# Create the MobileNetV2 model using the modified input layer\n",
        "model = MobileNetV2(input_tensor=input_tensor, weights='imagenet')"
      ],
      "metadata": {
        "colab": {
          "base_uri": "https://localhost:8080/"
        },
        "id": "Bh8mGmKJRoac",
        "outputId": "5ae1b7c3-7cd2-4069-9bcb-6a60cc07bef9"
      },
      "execution_count": null,
      "outputs": [
        {
          "output_type": "stream",
          "name": "stdout",
          "text": [
            "Downloading data from https://storage.googleapis.com/tensorflow/keras-applications/mobilenet_v2/mobilenet_v2_weights_tf_dim_ordering_tf_kernels_1.0_224.h5\n",
            "14536120/14536120 [==============================] - 1s 0us/step\n"
          ]
        }
      ]
    },
    {
      "cell_type": "code",
      "source": [
        "saved_model_dir = '/content/drives/MyDrive/Capstone/data jenis plastik/PlastiCode(1)'\n",
        "tf.saved_model.save(model, saved_model_dir)\n",
        "\n",
        "converter = tf.lite.TFLiteConverter.from_saved_model(saved_model_dir)\n",
        "tflite_model = converter.convert()\n",
        "\n",
        "with open('PlastiCode-mobilenetv2_1_00_224_input.tflite', 'wb') as f:\n",
        "  f.write(tflite_model)"
      ],
      "metadata": {
        "id": "0PlAKf_Sp_mC",
        "colab": {
          "base_uri": "https://localhost:8080/"
        },
        "outputId": "e859bc9b-335e-49a2-b9c3-d8c67144bac7"
      },
      "execution_count": null,
      "outputs": [
        {
          "output_type": "stream",
          "name": "stderr",
          "text": [
            "WARNING:absl:Function `_wrapped_model` contains input name(s) mobilenetv2_1.00_224_input with unsupported characters which will be renamed to mobilenetv2_1_00_224_input in the SavedModel.\n",
            "WARNING:absl:`mobilenetv2_1.00_224_input` is not a valid tf.function parameter name. Sanitizing to `mobilenetv2_1_00_224_input`.\n",
            "WARNING:absl:`mobilenetv2_1.00_224_input` is not a valid tf.function parameter name. Sanitizing to `mobilenetv2_1_00_224_input`.\n",
            "WARNING:absl:Found untraced functions such as _jit_compiled_convolution_op, _update_step_xla, _jit_compiled_convolution_op, _jit_compiled_convolution_op, _jit_compiled_convolution_op while saving (showing 5 of 54). These functions will not be directly callable after loading.\n"
          ]
        }
      ]
    },
    {
      "cell_type": "code",
      "source": [
        "# Untuk Download file tflite\n",
        "# Load the saved model\n",
        "model = tf.keras.models.load_model('your_model.h5')  # Ganti dengan nama file model Anda\n",
        "\n",
        "# Convert the model to TensorFlow Lite format\n",
        "converter = tf.lite.TFLiteConverter.from_keras_model(model)\n",
        "tflite_model = converter.convert()\n",
        "\n",
        "# Save the TensorFlow Lite model\n",
        "with open('your_model.tflite', 'wb') as f:\n",
        "    f.write(tflite_model)"
      ],
      "metadata": {
        "colab": {
          "base_uri": "https://localhost:8080/"
        },
        "id": "BrLdpNcbA_5H",
        "outputId": "a0f7d245-b33e-422f-9659-a7a0cc236049"
      },
      "execution_count": null,
      "outputs": [
        {
          "output_type": "stream",
          "name": "stderr",
          "text": [
            "WARNING:absl:Function `_wrapped_model` contains input name(s) mobilenetv2_1.00_224_input with unsupported characters which will be renamed to mobilenetv2_1_00_224_input in the SavedModel.\n",
            "WARNING:absl:Found untraced functions such as _jit_compiled_convolution_op, _update_step_xla, _jit_compiled_convolution_op, _jit_compiled_convolution_op, _jit_compiled_convolution_op while saving (showing 5 of 54). These functions will not be directly callable after loading.\n"
          ]
        }
      ]
    },
    {
      "cell_type": "code",
      "source": [],
      "metadata": {
        "id": "s36hGhyL9Z4j"
      },
      "execution_count": null,
      "outputs": []
    }
  ],
  "metadata": {
    "colab": {
      "provenance": []
    },
    "kernelspec": {
      "display_name": "Python 3",
      "name": "python3"
    },
    "language_info": {
      "name": "python"
    }
  },
  "nbformat": 4,
  "nbformat_minor": 0
}